{
 "cells": [
  {
   "cell_type": "code",
   "execution_count": 26,
   "metadata": {},
   "outputs": [],
   "source": [
    "import requests\n",
    "import pandas as pd \n",
    "import time\n",
    "import jsons\n",
    "import time\n",
    "import tweepy\n"
   ]
  },
  {
   "cell_type": "code",
   "execution_count": 31,
   "metadata": {},
   "outputs": [],
   "source": [
    "api_key = \"WNW1A9UegV75aghdUYW9YVryI\"\n",
    "api_secret= \"EnfzLzSCuy2RF5V7HFNOHYDTR6Qu9aeVDQcsCa0Y1sS4kykGjw\"\n",
    "bearer_token= \"AAAAAAAAAAAAAAAAAAAAAHRZrwEAAAAAG%2FTTJ%2FWfgd7yBw7Loc%2Fs%2FzcUxx0%3DDlqgP76iLEqN8dO0vKKl6fF0fZpz6UXOIkzNogkjFwZbJtxZrd\"\n",
    "access_token= \"1744470700499308544-erbyAN5znq7CcHJuzMahPtiQPKo0ri\"\n",
    "access_token_secret= \"Z68QN1Dhxh4qun3aqYQaOSGp8bQ\"\n",
    "\n",
    "client= tweepy.Client(bearer_token, api_key, api_secret, access_token, access_token_secret)\n",
    "\n",
    "auth= tweepy.OAuthHandler(api_key, api_secret, access_token, access_token_secret)\n",
    "api= tweepy.API(auth)\n",
    "\n",
    "search_terms= [\"COP28\", \"Climate Action\", \"Dubai\"]\n",
    "\n",
    "class MyStream(tweepy.StreamingClient):\n",
    "    def on_connect(self):\n",
    "        print(\"Connected\")\n"
   ]
  }
 ],
 "metadata": {
  "kernelspec": {
   "display_name": "Python 3",
   "language": "python",
   "name": "python3"
  },
  "language_info": {
   "codemirror_mode": {
    "name": "ipython",
    "version": 3
   },
   "file_extension": ".py",
   "mimetype": "text/x-python",
   "name": "python",
   "nbconvert_exporter": "python",
   "pygments_lexer": "ipython3",
   "version": "3.12.1"
  }
 },
 "nbformat": 4,
 "nbformat_minor": 2
}
